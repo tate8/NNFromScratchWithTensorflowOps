{
 "cells": [
  {
   "cell_type": "markdown",
   "metadata": {},
   "source": [
    "## Creating a Neural Network from scratch with Tensorflow\n",
    "\n",
    "I am doing this to practice working with data in Tensorflow. I will only use basic Tensorflow ops and structures. For example, I know that tf.nn.softmax will do the softmax computation for me, but I am implementing it myself."
   ]
  },
  {
   "cell_type": "code",
   "execution_count": 2,
   "metadata": {},
   "outputs": [
    {
     "name": "stdout",
     "output_type": "stream",
     "text": [
      "2.10.0\n",
      "[PhysicalDevice(name='/physical_device:GPU:0', device_type='GPU')]\n"
     ]
    }
   ],
   "source": [
    "import tensorflow as tf\n",
    "from keras.datasets import mnist\n",
    "# make sure tensorflow version >= 2.9.x for compatability\n",
    "print(tf.__version__)\n",
    "print(tf.config.experimental.list_physical_devices('GPU'))\n",
    "\n",
    "import matplotlib.pyplot as plt\n",
    "import time\n"
   ]
  },
  {
   "cell_type": "markdown",
   "metadata": {},
   "source": [
    "## Dataset Creation"
   ]
  },
  {
   "cell_type": "code",
   "execution_count": 3,
   "metadata": {},
   "outputs": [
    {
     "name": "stdout",
     "output_type": "stream",
     "text": [
      "60000\n"
     ]
    }
   ],
   "source": [
    "(train_X, train_y), (test_X, test_y) = mnist.load_data()\n",
    "NUM_TRAIN_EXAMPLES = train_X.shape[0]\n",
    "print(f'{NUM_TRAIN_EXAMPLES}')"
   ]
  },
  {
   "cell_type": "code",
   "execution_count": 4,
   "metadata": {},
   "outputs": [
    {
     "name": "stdout",
     "output_type": "stream",
     "text": [
      "MNIST images have size 784.0, 28x28\n"
     ]
    }
   ],
   "source": [
    "# analyze some data\n",
    "image_size = tf.constant(train_X[0].size, dtype=tf.float16)\n",
    "image_side_length = tf.cast(tf.sqrt(image_size), tf.int32)\n",
    "print(f\"MNIST images have size {image_size.numpy()}, {image_side_length}x{image_side_length}\")"
   ]
  },
  {
   "cell_type": "code",
   "execution_count": 5,
   "metadata": {},
   "outputs": [
    {
     "name": "stdout",
     "output_type": "stream",
     "text": [
      "<TakeDataset element_spec=(TensorSpec(shape=(None, 784), dtype=tf.float32, name=None), TensorSpec(shape=(None,), dtype=tf.float32, name=None))>\n"
     ]
    }
   ],
   "source": [
    "# since its going into a regular NN, we have to reshape it to 784\n",
    "train_X = tf.reshape(train_X, (train_X.shape[0], 784))\n",
    "\n",
    "# change to floats\n",
    "train_X = tf.cast(train_X, tf.float32)\n",
    "train_y = tf.cast(train_y, tf.float32)\n",
    "\n",
    "# now create dataset\n",
    "train_set = tf.data.Dataset.from_tensor_slices((train_X, train_y)).batch(32)\n",
    "print(train_set.take(1))"
   ]
  },
  {
   "cell_type": "markdown",
   "metadata": {},
   "source": [
    "## Network Creation"
   ]
  },
  {
   "cell_type": "markdown",
   "metadata": {},
   "source": [
    "Activation functions:"
   ]
  },
  {
   "cell_type": "code",
   "execution_count": 6,
   "metadata": {},
   "outputs": [],
   "source": [
    "def ReLU(x):\n",
    "    return tf.math.maximum(tf.constant(0, dtype=tf.float32), x)\n",
    "\n",
    "# derivative of the ReLU for backprop\n",
    "def dReLU(x):\n",
    "    x = x.numpy() # convert to np arr for list indexing\n",
    "    x[x<=0] = 0\n",
    "    x[x>0] = 1\n",
    "    return x\n",
    "\n",
    "def softmax(z):\n",
    "    return tf.math.divide(tf.math.exp(z), tf.math.reduce_sum(tf.math.exp(z)))"
   ]
  },
  {
   "cell_type": "markdown",
   "metadata": {},
   "source": [
    "for reference, this is what the ReLU looks like:"
   ]
  },
  {
   "cell_type": "code",
   "execution_count": 7,
   "metadata": {},
   "outputs": [
    {
     "data": {
      "image/png": "[encoded data removed]",
      "text/plain": [
       "<Figure size 432x288 with 1 Axes>"
      ]
     },
     "metadata": {
      "needs_background": "light"
     },
     "output_type": "display_data"
    }
   ],
   "source": [
    "xcoord = []\n",
    "ycoord = []\n",
    "\n",
    "for x in range(-100, 100):\n",
    "    y = ReLU(x)\n",
    "    xcoord.append(x)\n",
    "    ycoord.append(y)\n",
    "\n",
    "plt.plot(xcoord, ycoord)\n",
    "plt.title(\"Rectified Linear Unit (ReLU) Activation Function\")\n",
    "plt.show()"
   ]
  },
  {
   "cell_type": "markdown",
   "metadata": {},
   "source": [
    "And its derivative:"
   ]
  },
  {
   "cell_type": "code",
   "execution_count": 10,
   "metadata": {},
   "outputs": [
    {
     "ename": "TypeError",
     "evalue": "'numpy.int32' object does not support item assignment",
     "output_type": "error",
     "traceback": [
      "\u001b[0;31m---------------------------------------------------------------------------\u001b[0m",
      "\u001b[0;31mTypeError\u001b[0m                                 Traceback (most recent call last)",
      "Cell \u001b[0;32mIn [10], line 5\u001b[0m\n\u001b[1;32m      2\u001b[0m ycoord \u001b[38;5;241m=\u001b[39m []\n\u001b[1;32m      4\u001b[0m \u001b[38;5;28;01mfor\u001b[39;00m x \u001b[38;5;129;01min\u001b[39;00m \u001b[38;5;28mrange\u001b[39m(\u001b[38;5;241m-\u001b[39m\u001b[38;5;241m100\u001b[39m, \u001b[38;5;241m100\u001b[39m):\n\u001b[0;32m----> 5\u001b[0m     y \u001b[38;5;241m=\u001b[39m \u001b[43mdReLU\u001b[49m\u001b[43m(\u001b[49m\u001b[43mtf\u001b[49m\u001b[38;5;241;43m.\u001b[39;49m\u001b[43mconstant\u001b[49m\u001b[43m(\u001b[49m\u001b[43mx\u001b[49m\u001b[43m)\u001b[49m\u001b[43m)\u001b[49m\n\u001b[1;32m      6\u001b[0m     xcoord\u001b[38;5;241m.\u001b[39mappend(x)\n\u001b[1;32m      7\u001b[0m     ycoord\u001b[38;5;241m.\u001b[39mappend(y)\n",
      "Cell \u001b[0;32mIn [6], line 7\u001b[0m, in \u001b[0;36mdReLU\u001b[0;34m(x)\u001b[0m\n\u001b[1;32m      5\u001b[0m \u001b[38;5;28;01mdef\u001b[39;00m \u001b[38;5;21mdReLU\u001b[39m(x):\n\u001b[1;32m      6\u001b[0m     x \u001b[38;5;241m=\u001b[39m x\u001b[38;5;241m.\u001b[39mnumpy() \u001b[38;5;66;03m# convert to np arr for list indexing\u001b[39;00m\n\u001b[0;32m----> 7\u001b[0m     \u001b[43mx\u001b[49m\u001b[43m[\u001b[49m\u001b[43mx\u001b[49m\u001b[38;5;241;43m<\u001b[39;49m\u001b[38;5;241;43m=\u001b[39;49m\u001b[38;5;241;43m0\u001b[39;49m\u001b[43m]\u001b[49m \u001b[38;5;241m=\u001b[39m \u001b[38;5;241m0\u001b[39m\n\u001b[1;32m      8\u001b[0m     x[x\u001b[38;5;241m>\u001b[39m\u001b[38;5;241m0\u001b[39m] \u001b[38;5;241m=\u001b[39m \u001b[38;5;241m1\u001b[39m\n\u001b[1;32m      9\u001b[0m     \u001b[38;5;28;01mreturn\u001b[39;00m x\n",
      "\u001b[0;31mTypeError\u001b[0m: 'numpy.int32' object does not support item assignment"
     ]
    }
   ],
   "source": [
    "xcoord = []\n",
    "ycoord = []\n",
    "\n",
    "for x in range(-100, 100):\n",
    "    y = dReLU(tf.constant(x))\n",
    "    xcoord.append(x)\n",
    "    ycoord.append(y)\n",
    "\n",
    "\n",
    "plt.plot(xcoord, ycoord)\n",
    "plt.title(\"Rectified Linear Unit (ReLU) Activation Function DERIVATIVE\")\n",
    "plt.show()"
   ]
  },
  {
   "cell_type": "markdown",
   "metadata": {},
   "source": [
    "Loss and accuracy functions"
   ]
  },
  {
   "cell_type": "code",
   "execution_count": 11,
   "metadata": {},
   "outputs": [],
   "source": [
    "# cross entropy loss is the more general form of the binary classification formula\n",
    "def cross_entropy_loss(actual, true): # both (batch_size, 10)\n",
    "    \n",
    "    # pred and actual are probablilty distributions for the 10 classes\n",
    "    # e.g. [0, 1, 0, 0, 0, 0, 0, 0, 0, 0] for the actual\n",
    "    # maybe [.73, .2302, ...] for pred\n",
    "    loss = -tf.math.reduce_sum(tf.math.multiply(actual, tf.math.log(pred)))\n",
    "\n",
    "    # normalize by number of samples\n",
    "    return tf.math.subtract(loss, actual.numpy().shape[0])"
   ]
  },
  {
   "cell_type": "code",
   "execution_count": 12,
   "metadata": {},
   "outputs": [],
   "source": [
    "class FCLayer(tf.keras.layers.Layer):\n",
    "    def __init__(self, num_neurons, eps=.1):\n",
    "        super(FCLayer, self).__init__()\n",
    "        self.num_neurons = num_neurons\n",
    "        self.eps = eps\n",
    "        self.z = None\n",
    "        self.a = None\n",
    "        self.delta = None\n",
    "\n",
    "    def build(self, input_shape):\n",
    "        # remember shapes are usually ordered like this:\n",
    "        # (batch_size, width, height, features)\n",
    "        num_inputs = input_shape[-1]\n",
    "        # note: num_inputs is number of outputs in previous layer\n",
    "        # so if previous layer has 10 neurons, num_inputs will be 10\n",
    "        # if previous layer is input layer, num_inputs will be 784 (in MNIST case)\n",
    "        self.w = tf.random.uniform((self.num_neurons, num_inputs), minval=-self.eps, maxval=self.eps, dtype=tf.float32)\n",
    "        self.b = tf.random.uniform((self.num_neurons, ), minval=-self.eps, maxval=self.eps, dtype=tf.float32)\n",
    "        \n",
    "    def call(self, inputs):\n",
    "        return tf.matmul(inputs, tf.transpose(self.w)) + self.b\n",
    "\n",
    "class DenseNeuralNet(tf.keras.Model):\n",
    "    # remember to use activaton function between layers\n",
    "    def __init__(self, num_hidden_layers, layer_neurons, learning_rate=.01):\n",
    "        super().__init__()\n",
    "        self.learning_rate = learning_rate\n",
    "        # TODO: setup loss and accuracy\n",
    "        self.loss_history = []\n",
    "        \n",
    "        # setup layers\n",
    "        self._layers = []\n",
    "        for i in range(num_hidden_layers):\n",
    "            num_neurons_in_layer = layer_neurons[i]\n",
    "            self._layers.append(FCLayer(num_neurons_in_layer))\n",
    "        \n",
    "        softmax_clf = FCLayer(10)\n",
    "        self._layers.append(softmax_clf)\n",
    "        \n",
    "    \n",
    "    # overrides the fit() method\n",
    "    def train_step(self, data):\n",
    "        x, y = data\n",
    "        # feed forward (basically calls the call method)\n",
    "        y_pred = self(x) # (batch_size, 10)\n",
    "        # backprop\n",
    "        # update layer weights and biases while traversing backwards\n",
    "        \n",
    "        # one hot encode y\n",
    "        y = tf.one_hot(tf.cast(y, tf.int32), 10)\n",
    "        \n",
    "        # do last layer\n",
    "        delta = y_pred - y\n",
    "        prev_out = self._layers[-2].a\n",
    "        self._layers[-1].delta = delta\n",
    "        self._layers[-1].w -= self.learning_rate * tf.matmul(tf.transpose(prev_out), delta)\n",
    "        \n",
    "        # from layer N-1 to layer 1\n",
    "        for i in range(len(self._layers)-2, 0, -1):\n",
    "            layer = self._layers[i]\n",
    "            w = layer.w\n",
    "            b = layer.b\n",
    "            z = layer.z\n",
    "            a = layer.a\n",
    "            \n",
    "            # the previous layer is the layer L+1 when working from right to left\n",
    "            prev_delta = self._layers[i+1].delta\n",
    "            \n",
    "    \n",
    "            delta = tf.matmul(w, prev_delta) * dReLU(a)\n",
    "            # update rule for vanilla online gradient descent\n",
    "            # w[i,j] -= gamma * o[i] * delta[j]\n",
    "            # bias[j] -= gamma_bias * 1 * delta[j]\n",
    "            w_grad = tf.matmul(tf.transpose(a), delta)\n",
    "            b_grad = delta\n",
    "            \n",
    "            # This is the \"learning\" step\n",
    "            w = w - self.learning_rate * w_grad\n",
    "            b = b - self.learning_rate * b_grad\n",
    "            \n",
    "            layers[i].w = w\n",
    "            layers[i].b = b\n",
    "        \n",
    "        loss = cross_entropy_loss(y, y_pred)\n",
    "        self.loss_history.append(loss)\n",
    "        \n",
    "        return {\"loss\": loss}\n",
    "\n",
    "    def call(self, inputs): # (batch_size, 784)\n",
    "        # feed forward\n",
    "        x = self._layers[0](inputs)\n",
    "        for layer in self._layers[1:-1]:\n",
    "            x = layer(x) # propogate - z\n",
    "            layer.z = x\n",
    "            x = ReLU(x) # activate - a\n",
    "            layer.a = x\n",
    "        \n",
    "        softmax_clf = self._layers[-1]\n",
    "        x = softmax_clf(x) # (batch_size, 10)\n",
    "        return softmax(x)\n",
    "    "
   ]
  },
  {
   "cell_type": "markdown",
   "metadata": {},
   "source": [
    "## Model Creation & Training"
   ]
  },
  {
   "cell_type": "code",
   "execution_count": 13,
   "metadata": {},
   "outputs": [
    {
     "ename": "InvalidArgumentError",
     "evalue": "{{function_node __wrapped__MatMul_device_/job:localhost/replica:0/task:0/device:GPU:0}} In[0] mismatch In[1] shape: 15 vs. 32: [32,15] [32,10] 0 0 [Op:MatMul]",
     "output_type": "error",
     "traceback": [
      "\u001b[0;31m---------------------------------------------------------------------------\u001b[0m",
      "\u001b[0;31mInvalidArgumentError\u001b[0m                      Traceback (most recent call last)",
      "Cell \u001b[0;32mIn [13], line 21\u001b[0m\n\u001b[1;32m     19\u001b[0m \u001b[38;5;66;03m# Train step\u001b[39;00m\n\u001b[1;32m     20\u001b[0m \u001b[38;5;28;01mfor\u001b[39;00m step, (X, y) \u001b[38;5;129;01min\u001b[39;00m \u001b[38;5;28menumerate\u001b[39m(train_set): \u001b[38;5;66;03m# X and y are a batch\u001b[39;00m\n\u001b[0;32m---> 21\u001b[0m     loss \u001b[38;5;241m=\u001b[39m \u001b[43mtrain_step\u001b[49m\u001b[43m(\u001b[49m\u001b[43mX\u001b[49m\u001b[43m,\u001b[49m\u001b[43m \u001b[49m\u001b[43my\u001b[49m\u001b[43m)\u001b[49m\n\u001b[1;32m     22\u001b[0m     \u001b[38;5;28;01mif\u001b[39;00m step \u001b[38;5;241m%\u001b[39m \u001b[38;5;241m200\u001b[39m \u001b[38;5;241m==\u001b[39m \u001b[38;5;241m0\u001b[39m:\n\u001b[1;32m     23\u001b[0m         \u001b[38;5;28mprint\u001b[39m(\u001b[38;5;124mf\u001b[39m\u001b[38;5;124m\"\u001b[39m\u001b[38;5;124mTrain loss at step \u001b[39m\u001b[38;5;132;01m{\u001b[39;00mstep\u001b[38;5;132;01m}\u001b[39;00m\u001b[38;5;124m is \u001b[39m\u001b[38;5;132;01m{\u001b[39;00mloss\u001b[38;5;132;01m:\u001b[39;00m\u001b[38;5;124m.4f\u001b[39m\u001b[38;5;132;01m}\u001b[39;00m\u001b[38;5;124m\"\u001b[39m)\n",
      "Cell \u001b[0;32mIn [13], line 12\u001b[0m, in \u001b[0;36mtrain_step\u001b[0;34m(X, y)\u001b[0m\n\u001b[1;32m     11\u001b[0m \u001b[38;5;28;01mdef\u001b[39;00m \u001b[38;5;21mtrain_step\u001b[39m(X, y):\n\u001b[0;32m---> 12\u001b[0m     metrics_dict \u001b[38;5;241m=\u001b[39m \u001b[43mmodel\u001b[49m\u001b[38;5;241;43m.\u001b[39;49m\u001b[43mtrain_step\u001b[49m\u001b[43m(\u001b[49m\u001b[43m[\u001b[49m\u001b[43mX\u001b[49m\u001b[43m,\u001b[49m\u001b[43m \u001b[49m\u001b[43my\u001b[49m\u001b[43m]\u001b[49m\u001b[43m)\u001b[49m\n\u001b[1;32m     13\u001b[0m     loss \u001b[38;5;241m=\u001b[39m metrics_dict[\u001b[38;5;124m\"\u001b[39m\u001b[38;5;124mloss\u001b[39m\u001b[38;5;124m\"\u001b[39m]\n",
      "Cell \u001b[0;32mIn [12], line 56\u001b[0m, in \u001b[0;36mDenseNeuralNet.train_step\u001b[0;34m(self, data)\u001b[0m\n\u001b[1;32m     54\u001b[0m prev_out \u001b[38;5;241m=\u001b[39m \u001b[38;5;28mself\u001b[39m\u001b[38;5;241m.\u001b[39m_layers[\u001b[38;5;241m-\u001b[39m\u001b[38;5;241m2\u001b[39m]\u001b[38;5;241m.\u001b[39ma\n\u001b[1;32m     55\u001b[0m \u001b[38;5;28mself\u001b[39m\u001b[38;5;241m.\u001b[39m_layers[\u001b[38;5;241m-\u001b[39m\u001b[38;5;241m1\u001b[39m]\u001b[38;5;241m.\u001b[39mdelta \u001b[38;5;241m=\u001b[39m delta\n\u001b[0;32m---> 56\u001b[0m \u001b[38;5;28mself\u001b[39m\u001b[38;5;241m.\u001b[39m_layers[\u001b[38;5;241m-\u001b[39m\u001b[38;5;241m1\u001b[39m]\u001b[38;5;241m.\u001b[39mw \u001b[38;5;241m-\u001b[39m\u001b[38;5;241m=\u001b[39m \u001b[38;5;28mself\u001b[39m\u001b[38;5;241m.\u001b[39mlearning_rate \u001b[38;5;241m*\u001b[39m \u001b[43mtf\u001b[49m\u001b[38;5;241;43m.\u001b[39;49m\u001b[43mmatmul\u001b[49m\u001b[43m(\u001b[49m\u001b[43mprev_out\u001b[49m\u001b[43m,\u001b[49m\u001b[43m \u001b[49m\u001b[43mdelta\u001b[49m\u001b[43m)\u001b[49m\n\u001b[1;32m     58\u001b[0m \u001b[38;5;66;03m# from layer N-1 to layer 1\u001b[39;00m\n\u001b[1;32m     59\u001b[0m \u001b[38;5;28;01mfor\u001b[39;00m i \u001b[38;5;129;01min\u001b[39;00m \u001b[38;5;28mrange\u001b[39m(\u001b[38;5;28mlen\u001b[39m(\u001b[38;5;28mself\u001b[39m\u001b[38;5;241m.\u001b[39m_layers)\u001b[38;5;241m-\u001b[39m\u001b[38;5;241m2\u001b[39m, \u001b[38;5;241m0\u001b[39m, \u001b[38;5;241m-\u001b[39m\u001b[38;5;241m1\u001b[39m):\n",
      "File \u001b[0;32m~/miniconda/lib/python3.9/site-packages/tensorflow/python/util/traceback_utils.py:153\u001b[0m, in \u001b[0;36mfilter_traceback.<locals>.error_handler\u001b[0;34m(*args, **kwargs)\u001b[0m\n\u001b[1;32m    151\u001b[0m \u001b[38;5;28;01mexcept\u001b[39;00m \u001b[38;5;167;01mException\u001b[39;00m \u001b[38;5;28;01mas\u001b[39;00m e:\n\u001b[1;32m    152\u001b[0m   filtered_tb \u001b[38;5;241m=\u001b[39m _process_traceback_frames(e\u001b[38;5;241m.\u001b[39m__traceback__)\n\u001b[0;32m--> 153\u001b[0m   \u001b[38;5;28;01mraise\u001b[39;00m e\u001b[38;5;241m.\u001b[39mwith_traceback(filtered_tb) \u001b[38;5;28;01mfrom\u001b[39;00m \u001b[38;5;28mNone\u001b[39m\n\u001b[1;32m    154\u001b[0m \u001b[38;5;28;01mfinally\u001b[39;00m:\n\u001b[1;32m    155\u001b[0m   \u001b[38;5;28;01mdel\u001b[39;00m filtered_tb\n",
      "File \u001b[0;32m~/miniconda/lib/python3.9/site-packages/tensorflow/python/framework/ops.py:7209\u001b[0m, in \u001b[0;36mraise_from_not_ok_status\u001b[0;34m(e, name)\u001b[0m\n\u001b[1;32m   7207\u001b[0m \u001b[38;5;28;01mdef\u001b[39;00m \u001b[38;5;21mraise_from_not_ok_status\u001b[39m(e, name):\n\u001b[1;32m   7208\u001b[0m   e\u001b[38;5;241m.\u001b[39mmessage \u001b[38;5;241m+\u001b[39m\u001b[38;5;241m=\u001b[39m (\u001b[38;5;124m\"\u001b[39m\u001b[38;5;124m name: \u001b[39m\u001b[38;5;124m\"\u001b[39m \u001b[38;5;241m+\u001b[39m name \u001b[38;5;28;01mif\u001b[39;00m name \u001b[38;5;129;01mis\u001b[39;00m \u001b[38;5;129;01mnot\u001b[39;00m \u001b[38;5;28;01mNone\u001b[39;00m \u001b[38;5;28;01melse\u001b[39;00m \u001b[38;5;124m\"\u001b[39m\u001b[38;5;124m\"\u001b[39m)\n\u001b[0;32m-> 7209\u001b[0m   \u001b[38;5;28;01mraise\u001b[39;00m core\u001b[38;5;241m.\u001b[39m_status_to_exception(e) \u001b[38;5;28;01mfrom\u001b[39;00m \u001b[38;5;28mNone\u001b[39m\n",
      "\u001b[0;31mInvalidArgumentError\u001b[0m: {{function_node __wrapped__MatMul_device_/job:localhost/replica:0/task:0/device:GPU:0}} In[0] mismatch In[1] shape: 15 vs. 32: [32,15] [32,10] 0 0 [Op:MatMul]"
     ]
    }
   ],
   "source": [
    "EPOCHS = 10\n",
    "model = DenseNeuralNet(num_hidden_layers=3, layer_neurons=[25, 20, 15])\n",
    "\n",
    "train_step_signature = [\n",
    "    tf.TensorSpec(shape=(32, 784), dtype=tf.float32),\n",
    "    tf.TensorSpec(shape=(32, ), dtype=tf.float32)\n",
    "]\n",
    "\n",
    "\n",
    "# @tf.function(input_signature=train_step_signature)\n",
    "def train_step(X, y):\n",
    "    metrics_dict = model.train_step([X, y])\n",
    "    loss = metrics_dict[\"loss\"]\n",
    "\n",
    "\n",
    "\n",
    "for epoch in range(EPOCHS):\n",
    "    start = time.time()\n",
    "    # Train step\n",
    "    for step, (X, y) in enumerate(train_set): # X and y are a batch\n",
    "        loss = train_step(X, y)\n",
    "        if step % 200 == 0:\n",
    "            print(f\"Train loss at step {step} is {loss:.4f}\")\n",
    "        \n",
    "    tf.print(f'Time taken for 1 epoch: {time.time() - start:.2f} secs\\n')\n",
    "\n",
    " \n"
   ]
  },
  {
   "cell_type": "code",
   "execution_count": null,
   "metadata": {},
   "outputs": [],
   "source": []
  }
 ],
 "metadata": {
  "kernelspec": {
   "display_name": "Python [conda env:miniconda]",
   "language": "python",
   "name": "conda-env-miniconda-py"
  },
  "language_info": {
   "codemirror_mode": {
    "name": "ipython",
    "version": 3
   },
   "file_extension": ".py",
   "mimetype": "text/x-python",
   "name": "python",
   "nbconvert_exporter": "python",
   "pygments_lexer": "ipython3",
   "version": "3.9.12"
  },
  "vscode": {
   "interpreter": {
    "hash": "7eafcc8f417ce84711ef43e3ea4a0375aea56eb4ba6451442638b2e997f4235a"
   }
  }
 },
 "nbformat": 4,
 "nbformat_minor": 2
}
